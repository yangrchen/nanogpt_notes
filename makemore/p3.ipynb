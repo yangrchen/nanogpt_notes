{
 "cells": [
  {
   "cell_type": "markdown",
   "metadata": {},
   "source": [
    "# Activations, Gradients, BatchNorm"
   ]
  },
  {
   "cell_type": "code",
   "execution_count": 1,
   "metadata": {},
   "outputs": [],
   "source": [
    "import torch\n",
    "import torch.nn.functional as F\n",
    "import matplotlib.pyplot as plt\n",
    "\n",
    "%matplotlib inline"
   ]
  },
  {
   "cell_type": "code",
   "execution_count": 2,
   "metadata": {},
   "outputs": [
    {
     "data": {
      "text/plain": [
       "['emma', 'olivia', 'ava', 'isabella', 'sophia', 'charlotte', 'mia', 'amelia']"
      ]
     },
     "execution_count": 2,
     "metadata": {},
     "output_type": "execute_result"
    }
   ],
   "source": [
    "words = open(\"names.txt\", \"r\").read().splitlines()\n",
    "device = \"cuda\" if torch.cuda.is_available() else \"cpu\"\n",
    "words[:8]"
   ]
  },
  {
   "cell_type": "code",
   "execution_count": 3,
   "metadata": {},
   "outputs": [
    {
     "name": "stdout",
     "output_type": "stream",
     "text": [
      "{1: 'a', 2: 'b', 3: 'c', 4: 'd', 5: 'e', 6: 'f', 7: 'g', 8: 'h', 9: 'i', 10: 'j', 11: 'k', 12: 'l', 13: 'm', 14: 'n', 15: 'o', 16: 'p', 17: 'q', 18: 'r', 19: 's', 20: 't', 21: 'u', 22: 'v', 23: 'w', 24: 'x', 25: 'y', 26: 'z', 0: '.'}\n",
      "vocab_size = 27\n"
     ]
    }
   ],
   "source": [
    "# Build vocab of chars and mappings to/from integers\n",
    "chars = sorted(list(set(\"\".join(words))))\n",
    "stoi = {s: i for i, s in enumerate(chars, start=1)}\n",
    "stoi[\".\"] = 0\n",
    "itos = {i: s for s, i in stoi.items()}\n",
    "vocab_size = len(itos)\n",
    "print(itos)\n",
    "print(f\"{vocab_size = }\")"
   ]
  },
  {
   "cell_type": "code",
   "execution_count": 4,
   "metadata": {},
   "outputs": [
    {
     "name": "stdout",
     "output_type": "stream",
     "text": [
      "torch.Size([182353, 3]) torch.Size([182353])\n",
      "torch.Size([22884, 3]) torch.Size([22884])\n",
      "torch.Size([22909, 3]) torch.Size([22909])\n"
     ]
    }
   ],
   "source": [
    "# Build the dataset\n",
    "import random\n",
    "\n",
    "block_size = 3  # Context length\n",
    "\n",
    "\n",
    "def build_dataset(words: list[str]) -> tuple[torch.tensor, torch.tensor]:\n",
    "    X, y = [], []\n",
    "    for w in words:\n",
    "        context = [0] * block_size\n",
    "        for ch in w + \".\":\n",
    "            ix = stoi[ch]\n",
    "            X.append(context)\n",
    "            y.append(ix)\n",
    "            context = context[1:] + [ix]\n",
    "    X, y = torch.tensor(X).to(device), torch.tensor(y).to(device)\n",
    "    print(X.shape, y.shape)\n",
    "\n",
    "    return X, y\n",
    "\n",
    "\n",
    "random.seed(42)\n",
    "shuffled_words = random.sample(words, len(words))\n",
    "n1 = int(0.8 * len(shuffled_words))\n",
    "n2 = int(0.9 * len(shuffled_words))\n",
    "\n",
    "X_train, y_train = build_dataset(shuffled_words[:n1])  # 80%\n",
    "X_val, y_val = build_dataset(shuffled_words[n1:n2])  # 10%\n",
    "X_test, y_test = build_dataset(shuffled_words[n2:])  # 10%"
   ]
  },
  {
   "cell_type": "code",
   "execution_count": 5,
   "metadata": {},
   "outputs": [
    {
     "data": {
      "text/plain": [
       "11897"
      ]
     },
     "execution_count": 5,
     "metadata": {},
     "output_type": "execute_result"
    }
   ],
   "source": [
    "n_emb = 10  # Embedding dimension\n",
    "n_hidden = 200  # Number of neurons in hidden layers of the MLP\n",
    "\n",
    "g = torch.Generator(device=device).manual_seed(2147483647)  # Reprod\n",
    "C = torch.randn((vocab_size, n_emb), generator=g, device=device)  # Embedding matrix\n",
    "W1 = torch.randn(\n",
    "    (n_emb * block_size, n_hidden), generator=g, device=device\n",
    ")  # First weight matrix\n",
    "b1 = torch.randn(n_hidden, generator=g, device=device)  # First bias\n",
    "W2 = torch.randn(\n",
    "    (n_hidden, vocab_size), generator=g, device=device\n",
    ")  # Second weight matrix\n",
    "b2 = torch.randn(vocab_size, generator=g, device=device)\n",
    "\n",
    "params = [C, W1, b1, W2, b2]\n",
    "\n",
    "for p in params:\n",
    "    p.requires_grad = True\n",
    "\n",
    "sum(p.nelement() for p in params)"
   ]
  },
  {
   "cell_type": "code",
   "execution_count": 6,
   "metadata": {},
   "outputs": [
    {
     "name": "stdout",
     "output_type": "stream",
     "text": [
      "      0/ 200000: 26.3285\n",
      "  10000/ 200000: 2.4478\n",
      "  20000/ 200000: 2.5012\n",
      "  30000/ 200000: 2.2516\n",
      "  40000/ 200000: 2.5018\n",
      "  50000/ 200000: 1.9498\n",
      "  60000/ 200000: 2.2845\n",
      "  70000/ 200000: 2.5794\n",
      "  80000/ 200000: 2.3156\n",
      "  90000/ 200000: 2.3952\n",
      " 100000/ 200000: 1.7867\n",
      " 110000/ 200000: 1.9023\n",
      " 120000/ 200000: 2.2795\n",
      " 130000/ 200000: 2.1548\n",
      " 140000/ 200000: 2.3009\n",
      " 150000/ 200000: 2.1544\n",
      " 160000/ 200000: 1.9362\n",
      " 170000/ 200000: 2.4731\n",
      " 180000/ 200000: 1.8810\n",
      " 190000/ 200000: 2.3111\n"
     ]
    }
   ],
   "source": [
    "# Additional training hyperparameters\n",
    "max_steps = 200_000\n",
    "batch_size = 32\n",
    "lossi = []\n",
    "\n",
    "for i in range(max_steps):\n",
    "    # Construct the mini-batch\n",
    "    ix = torch.randint(0, X_train.shape[0], (batch_size,), generator=g, device=device)\n",
    "    Xb, yb = X_train[ix], y_train[ix]\n",
    "\n",
    "    # Forward pass\n",
    "    emb = C[Xb]\n",
    "    emb_cat = emb.view(emb.shape[0], -1)\n",
    "    h_preact = emb_cat @ W1 + b1\n",
    "    h = torch.tanh(h_preact)\n",
    "    logits = h @ W2 + b2\n",
    "    loss = F.cross_entropy(logits, yb)\n",
    "\n",
    "    # Backward pass\n",
    "    for p in params:\n",
    "        p.grad = None\n",
    "    loss.backward()\n",
    "\n",
    "    # Update step\n",
    "    lr = 0.1 if i < 100_000 else 0.01\n",
    "    for p in params:\n",
    "        p.data += -lr * p.grad\n",
    "\n",
    "    # Track statistics every 10,000 iters\n",
    "    if i % 10_000 == 0:\n",
    "        print(f\"{i:7d}/{max_steps:7d}: {loss.item():.4f}\")\n",
    "    lossi.append(loss.log10().item())"
   ]
  },
  {
   "cell_type": "code",
   "execution_count": 7,
   "metadata": {},
   "outputs": [
    {
     "data": {
      "text/plain": [
       "[<matplotlib.lines.Line2D at 0x76d563eed410>]"
      ]
     },
     "execution_count": 7,
     "metadata": {},
     "output_type": "execute_result"
    },
    {
     "data": {
      "image/png": "[encoded data removed]",
      "text/plain": [
       "<Figure size 640x480 with 1 Axes>"
      ]
     },
     "metadata": {},
     "output_type": "display_data"
    }
   ],
   "source": [
    "plt.plot(lossi)"
   ]
  },
  {
   "cell_type": "code",
   "execution_count": 8,
   "metadata": {},
   "outputs": [
    {
     "name": "stdout",
     "output_type": "stream",
     "text": [
      "train 2.1085376739501953\n",
      "val 2.150294542312622\n"
     ]
    }
   ],
   "source": [
    "@torch.no_grad()\n",
    "def split_loss(split: str):\n",
    "    X, y = {\n",
    "        \"train\": (X_train, y_train),\n",
    "        \"val\": (X_val, y_val),\n",
    "        \"test\": (X_test, y_test),\n",
    "    }[split]\n",
    "    emb = C[X]\n",
    "    emb_cat = emb.view(emb.shape[0], -1)\n",
    "    h_preact = emb_cat @ W1 + b1\n",
    "    h = torch.tanh(h_preact)\n",
    "    logits = h @ W2 + b2\n",
    "    loss = F.cross_entropy(logits, y)\n",
    "    print(split, loss.item())\n",
    "\n",
    "\n",
    "split_loss(\"train\")\n",
    "split_loss(\"val\")"
   ]
  },
  {
   "cell_type": "code",
   "execution_count": 9,
   "metadata": {},
   "outputs": [
    {
     "name": "stdout",
     "output_type": "stream",
     "text": [
      "khel.\n",
      "ephyling.\n",
      "rumaneli.\n",
      "ana.\n",
      "makisha.\n",
      "macxonnan.\n",
      "ran.\n",
      "ramierlinn.\n",
      "ermaleis.\n",
      "nainy.\n",
      "alee.\n",
      "ose.\n",
      "raylian.\n",
      "dison.\n",
      "ston.\n",
      "thelett.\n",
      "sani.\n",
      "jamelyn.\n",
      "avaugon.\n",
      "sam.\n"
     ]
    }
   ],
   "source": [
    "g = torch.Generator(device=device).manual_seed(2147483647)\n",
    "\n",
    "for _ in range(20):\n",
    "    out = []\n",
    "    context = [0] * block_size\n",
    "    while True:\n",
    "        emb = C[torch.tensor([context])]  # (1, block_size, n_emb)\n",
    "        h = torch.tanh(emb.view(1, -1) @ W1 + b1)\n",
    "        logits = h @ W2 + b2\n",
    "        probs = F.softmax(logits, dim=1)\n",
    "        ix = torch.multinomial(probs, num_samples=1, generator=g).item()\n",
    "        context = context[1:] + [ix]\n",
    "        out.append(ix)\n",
    "        if ix == 0:\n",
    "            break\n",
    "\n",
    "    print(\"\".join(itos[i] for i in out))  # Decode and print generated words"
   ]
  },
  {
   "cell_type": "markdown",
   "metadata": {},
   "source": [
    "## Calculating the Expected Initial Loss"
   ]
  },
  {
   "cell_type": "markdown",
   "metadata": {},
   "source": [
    "At initialization, we have no reason to expect any of the 27 characters to be more likely than the others. The initial probability distribution is a uniform distribution assigning equal probability to all of the 27 characters."
   ]
  },
  {
   "cell_type": "code",
   "execution_count": 10,
   "metadata": {},
   "outputs": [
    {
     "data": {
      "text/plain": [
       "tensor(3.2958)"
      ]
     },
     "execution_count": 10,
     "metadata": {},
     "output_type": "execute_result"
    }
   ],
   "source": [
    "-torch.tensor(1 / 27.0).log()  # Negative log-likelihood"
   ]
  },
  {
   "cell_type": "markdown",
   "metadata": {},
   "source": [
    "If we scale up a tensor sample from a random Normal, then the loss can grow very high if the predicted class is wrong. We would like our initial logits to be roughly equal to not blow up the loss. According to Karpathy, with an unoptimized initialization the training loss will appear as a \"hockey stick\" where the loss drops very quickly during the first few iterations. During these iterations, the logits will be squashed down in an \"easy\" part of the training. However, we would like to focus on the hard gains of training the network with our iterations."
   ]
  },
  {
   "cell_type": "code",
   "execution_count": 11,
   "metadata": {},
   "outputs": [
    {
     "data": {
      "text/plain": [
       "11897"
      ]
     },
     "execution_count": 11,
     "metadata": {},
     "output_type": "execute_result"
    }
   ],
   "source": [
    "n_emb = 10  # Embedding dimension\n",
    "n_hidden = 200  # Number of neurons in hidden layers of the MLP\n",
    "\n",
    "g = torch.Generator(device=device).manual_seed(2147483647)  # Reprod\n",
    "C = torch.randn((vocab_size, n_emb), generator=g, device=device)  # Embedding matrix\n",
    "W1 = torch.randn(\n",
    "    (n_emb * block_size, n_hidden), generator=g, device=device\n",
    ")  # First weight matrix\n",
    "b1 = torch.randn(n_hidden, generator=g, device=device)  # First bias\n",
    "W2 = (\n",
    "    torch.randn((n_hidden, vocab_size), generator=g, device=device) * 0.1\n",
    ")  # Second weight matrix\n",
    "b2 = torch.randn(vocab_size, generator=g, device=device) * 0.0\n",
    "\n",
    "params = [C, W1, b1, W2, b2]\n",
    "\n",
    "for p in params:\n",
    "    p.requires_grad = True\n",
    "\n",
    "sum(p.nelement() for p in params)"
   ]
  },
  {
   "cell_type": "code",
   "execution_count": 12,
   "metadata": {},
   "outputs": [
    {
     "name": "stdout",
     "output_type": "stream",
     "text": [
      "      0/ 200000: 4.0898\n",
      "  10000/ 200000: 2.3876\n",
      "  20000/ 200000: 2.2551\n",
      "  30000/ 200000: 2.3932\n",
      "  40000/ 200000: 2.4638\n",
      "  50000/ 200000: 2.1045\n",
      "  60000/ 200000: 2.1961\n",
      "  70000/ 200000: 2.5197\n",
      "  80000/ 200000: 2.3222\n",
      "  90000/ 200000: 2.4651\n",
      " 100000/ 200000: 1.9109\n",
      " 110000/ 200000: 1.9026\n",
      " 120000/ 200000: 2.2558\n",
      " 130000/ 200000: 2.1241\n",
      " 140000/ 200000: 2.2899\n",
      " 150000/ 200000: 2.0210\n",
      " 160000/ 200000: 1.8983\n",
      " 170000/ 200000: 2.3711\n",
      " 180000/ 200000: 1.8953\n",
      " 190000/ 200000: 2.3014\n"
     ]
    }
   ],
   "source": [
    "# Additional training hyperparameters\n",
    "max_steps = 200_000\n",
    "batch_size = 32\n",
    "lossi = []\n",
    "\n",
    "for i in range(max_steps):\n",
    "    # Construct the mini-batch\n",
    "    ix = torch.randint(0, X_train.shape[0], (batch_size,), generator=g, device=device)\n",
    "    Xb, yb = X_train[ix], y_train[ix]\n",
    "\n",
    "    # Forward pass\n",
    "    emb = C[Xb]\n",
    "    emb_cat = emb.view(emb.shape[0], -1)\n",
    "    h_preact = emb_cat @ W1 + b1\n",
    "    h = torch.tanh(h_preact)\n",
    "    logits = h @ W2 + b2\n",
    "    loss = F.cross_entropy(logits, yb)\n",
    "\n",
    "    # Backward pass\n",
    "    for p in params:\n",
    "        p.grad = None\n",
    "    loss.backward()\n",
    "\n",
    "    # Update step\n",
    "    lr = 0.1 if i < 100_000 else 0.01\n",
    "    for p in params:\n",
    "        p.data += -lr * p.grad\n",
    "\n",
    "    # Track statistics every 10,000 iters\n",
    "    if i % 10_000 == 0:\n",
    "        print(f\"{i:7d}/{max_steps:7d}: {loss.item():.4f}\")\n",
    "    lossi.append(loss.log10().item())"
   ]
  },
  {
   "cell_type": "markdown",
   "metadata": {},
   "source": [
    "## Fixing a Saturated Tanh"
   ]
  },
  {
   "cell_type": "markdown",
   "metadata": {},
   "source": [
    "Another issue is in the `tanh` activation function. In the distribution of the activations, a majority of the values are either -1 or 1."
   ]
  },
  {
   "cell_type": "code",
   "execution_count": 13,
   "metadata": {},
   "outputs": [
    {
     "data": {
      "image/png": "[encoded data removed]",
      "text/plain": [
       "<Figure size 640x480 with 1 Axes>"
      ]
     },
     "metadata": {},
     "output_type": "display_data"
    }
   ],
   "source": [
    "plt.hist(h.view(-1).tolist(), 50);"
   ]
  },
  {
   "cell_type": "code",
   "execution_count": 14,
   "metadata": {},
   "outputs": [
    {
     "data": {
      "image/png": "[encoded data removed]",
      "text/plain": [
       "<Figure size 640x480 with 1 Axes>"
      ]
     },
     "metadata": {},
     "output_type": "display_data"
    }
   ],
   "source": [
    "plt.hist(h_preact.view(-1).tolist(), 50);"
   ]
  },
  {
   "cell_type": "markdown",
   "metadata": {},
   "source": [
    "The gradient accumulation for `tanh` is $\\text{self.grad} = (1 - t^2) \\cdot \\text{out.grad}$ so when $t$ is close to -1 or 1 the gradient and thus the loss does not change much with any change in the input. If we plot the batch activations, if any of the neurons (columns) had all white activations (close to -1 or 1) then this would indicate that the neuron would never change the gradient and never learn. This can happen for other activation functions as well like sigmoid and ReLU."
   ]
  },
  {
   "cell_type": "code",
   "execution_count": 15,
   "metadata": {},
   "outputs": [
    {
     "data": {
      "text/plain": [
       "<matplotlib.image.AxesImage at 0x76d50eef33d0>"
      ]
     },
     "execution_count": 15,
     "metadata": {},
     "output_type": "execute_result"
    },
    {
     "data": {
      "image/png": "[encoded data removed]",
      "text/plain": [
       "<Figure size 2000x1000 with 1 Axes>"
      ]
     },
     "metadata": {},
     "output_type": "display_data"
    }
   ],
   "source": [
    "plt.figure(figsize=(20, 10))\n",
    "plt.imshow(h.abs().cpu() > 0.99, cmap=\"gray\", interpolation=\"nearest\")"
   ]
  },
  {
   "cell_type": "code",
   "execution_count": 16,
   "metadata": {},
   "outputs": [
    {
     "data": {
      "text/plain": [
       "11897"
      ]
     },
     "execution_count": 16,
     "metadata": {},
     "output_type": "execute_result"
    }
   ],
   "source": [
    "n_emb = 10  # Embedding dimension\n",
    "n_hidden = 200  # Number of neurons in hidden layers of the MLP\n",
    "\n",
    "g = torch.Generator(device=device).manual_seed(2147483647)  # Reprod\n",
    "C = torch.randn((vocab_size, n_emb), generator=g, device=device)  # Embedding matrix\n",
    "W1 = (\n",
    "    torch.randn((n_emb * block_size, n_hidden), generator=g, device=device) * 0.1\n",
    ")  # First weight matrix\n",
    "b1 = torch.randn(n_hidden, generator=g, device=device) * 0.0  # First bias\n",
    "W2 = (\n",
    "    torch.randn((n_hidden, vocab_size), generator=g, device=device) * 0.1\n",
    ")  # Second weight matrix\n",
    "b2 = torch.randn(vocab_size, generator=g, device=device) * 0.0\n",
    "\n",
    "params = [C, W1, b1, W2, b2]\n",
    "\n",
    "for p in params:\n",
    "    p.requires_grad = True\n",
    "\n",
    "sum(p.nelement() for p in params)"
   ]
  },
  {
   "cell_type": "code",
   "execution_count": 17,
   "metadata": {},
   "outputs": [
    {
     "name": "stdout",
     "output_type": "stream",
     "text": [
      "      0/ 200000: 3.4774\n",
      "  10000/ 200000: 2.2528\n",
      "  20000/ 200000: 2.2227\n",
      "  30000/ 200000: 2.3581\n",
      "  40000/ 200000: 2.2712\n",
      "  50000/ 200000: 2.0100\n",
      "  60000/ 200000: 2.0713\n",
      "  70000/ 200000: 2.3652\n",
      "  80000/ 200000: 2.1966\n",
      "  90000/ 200000: 2.5398\n",
      " 100000/ 200000: 1.8599\n",
      " 110000/ 200000: 1.9104\n",
      " 120000/ 200000: 2.2162\n",
      " 130000/ 200000: 2.1473\n",
      " 140000/ 200000: 2.1651\n",
      " 150000/ 200000: 2.0029\n",
      " 160000/ 200000: 1.8647\n",
      " 170000/ 200000: 2.3959\n",
      " 180000/ 200000: 1.7955\n",
      " 190000/ 200000: 2.1633\n"
     ]
    }
   ],
   "source": [
    "# Additional training hyperparameters\n",
    "max_steps = 200_000\n",
    "batch_size = 32\n",
    "lossi = []\n",
    "\n",
    "for i in range(max_steps):\n",
    "    # Construct the mini-batch\n",
    "    ix = torch.randint(0, X_train.shape[0], (batch_size,), generator=g, device=device)\n",
    "    Xb, yb = X_train[ix], y_train[ix]\n",
    "\n",
    "    # Forward pass\n",
    "    emb = C[Xb]\n",
    "    emb_cat = emb.view(emb.shape[0], -1)\n",
    "    h_preact = emb_cat @ W1 + b1\n",
    "    h = torch.tanh(h_preact)\n",
    "    logits = h @ W2 + b2\n",
    "    loss = F.cross_entropy(logits, yb)\n",
    "\n",
    "    # Backward pass\n",
    "    for p in params:\n",
    "        p.grad = None\n",
    "    loss.backward()\n",
    "\n",
    "    # Update step\n",
    "    lr = 0.1 if i < 100_000 else 0.01\n",
    "    for p in params:\n",
    "        p.data += -lr * p.grad\n",
    "\n",
    "    # Track statistics every 10,000 iters\n",
    "    if i % 10_000 == 0:\n",
    "        print(f\"{i:7d}/{max_steps:7d}: {loss.item():.4f}\")\n",
    "    lossi.append(loss.log10().item())"
   ]
  },
  {
   "cell_type": "code",
   "execution_count": 18,
   "metadata": {},
   "outputs": [
    {
     "name": "stdout",
     "output_type": "stream",
     "text": [
      "train 2.0471034049987793\n",
      "val 2.108445167541504\n"
     ]
    }
   ],
   "source": [
    "split_loss(\"train\")\n",
    "split_loss(\"val\")"
   ]
  },
  {
   "cell_type": "markdown",
   "metadata": {},
   "source": [
    "# Kaiming Init"
   ]
  },
  {
   "cell_type": "markdown",
   "metadata": {},
   "source": [
    "In this context, initialization optimization is easy since we only have a few layers. Throughout the network, we would like to preserve unit variance. To do this, we divide the weight matrix by standard deviation $\\frac{1}{\\sqrt{\\text{feature\\_in}}}$. Kaiming initialization takes on different formulas for different activation functions, but with modern neural network optimizations these initializations don't require as much tuning: $\\text{std} = \\frac{\\text{gain}}{\\sqrt{\\text{fan\\_mode}}}$"
   ]
  },
  {
   "cell_type": "code",
   "execution_count": 19,
   "metadata": {},
   "outputs": [
    {
     "name": "stdout",
     "output_type": "stream",
     "text": [
      "tensor(0.0174) tensor(1.0024)\n",
      "tensor(0.0057) tensor(9.9863)\n",
      "Post-normalization: tensor(0.0018) tensor(0.9986)\n"
     ]
    },
    {
     "data": {
      "image/png": "[encoded data removed]",
      "text/plain": [
       "<Figure size 2000x500 with 2 Axes>"
      ]
     },
     "metadata": {},
     "output_type": "display_data"
    }
   ],
   "source": [
    "x = torch.randn(1000, 10)\n",
    "w = torch.randn(10, 200)\n",
    "y = x @ w\n",
    "print(x.mean(), x.var())\n",
    "print(y.mean(), y.var())\n",
    "w /= 10 ** 0.5\n",
    "y = x @ w\n",
    "print(\"Post-normalization:\", y.mean(), y.var())\n",
    "plt.figure(figsize=(20, 5))\n",
    "plt.subplot(121)\n",
    "plt.hist(x.view(-1).tolist(), 50, density=True)\n",
    "plt.subplot(122)\n",
    "plt.hist(y.view(-1).tolist(), 50, density=True);"
   ]
  },
  {
   "cell_type": "code",
   "execution_count": 20,
   "metadata": {},
   "outputs": [
    {
     "data": {
      "text/plain": [
       "11897"
      ]
     },
     "execution_count": 20,
     "metadata": {},
     "output_type": "execute_result"
    }
   ],
   "source": [
    "n_emb = 10  # Embedding dimension\n",
    "n_hidden = 200  # Number of neurons in hidden layers of the MLP\n",
    "\n",
    "g = torch.Generator(device=device).manual_seed(2147483647)  # Reprod\n",
    "C = torch.randn((vocab_size, n_emb), generator=g, device=device)  # Embedding matrix\n",
    "W1 = (\n",
    "    torch.randn((n_emb * block_size, n_hidden), generator=g, device=device)\n",
    "    * (5 / 3)  # 5/3 comes from gain for tanh\n",
    "    / ((n_emb * block_size) ** 0.5)\n",
    ")  # First weight matrix\n",
    "b1 = torch.randn(n_hidden, generator=g, device=device) * 0.0  # First bias\n",
    "W2 = (\n",
    "    torch.randn((n_hidden, vocab_size), generator=g, device=device) * 0.1\n",
    ")  # Second weight matrix\n",
    "b2 = torch.randn(vocab_size, generator=g, device=device) * 0.0\n",
    "\n",
    "params = [C, W1, b1, W2, b2]\n",
    "\n",
    "for p in params:\n",
    "    p.requires_grad = True\n",
    "\n",
    "sum(p.nelement() for p in params)"
   ]
  },
  {
   "cell_type": "code",
   "execution_count": 21,
   "metadata": {},
   "outputs": [
    {
     "name": "stdout",
     "output_type": "stream",
     "text": [
      "      0/ 200000: 3.8196\n",
      "  10000/ 200000: 2.2635\n",
      "  20000/ 200000: 2.2095\n",
      "  30000/ 200000: 2.1662\n",
      "  40000/ 200000: 2.4193\n",
      "  50000/ 200000: 1.9692\n",
      "  60000/ 200000: 2.2085\n",
      "  70000/ 200000: 2.3124\n",
      "  80000/ 200000: 2.2670\n",
      "  90000/ 200000: 2.4311\n",
      " 100000/ 200000: 1.8165\n",
      " 110000/ 200000: 1.8409\n",
      " 120000/ 200000: 2.1586\n",
      " 130000/ 200000: 2.1239\n",
      " 140000/ 200000: 2.1301\n",
      " 150000/ 200000: 1.9460\n",
      " 160000/ 200000: 1.8131\n",
      " 170000/ 200000: 2.3609\n",
      " 180000/ 200000: 1.8698\n",
      " 190000/ 200000: 2.2332\n"
     ]
    }
   ],
   "source": [
    "# Additional training hyperparameters\n",
    "max_steps = 200_000\n",
    "batch_size = 32\n",
    "lossi = []\n",
    "\n",
    "for i in range(max_steps):\n",
    "    # Construct the mini-batch\n",
    "    ix = torch.randint(0, X_train.shape[0], (batch_size,), generator=g, device=device)\n",
    "    Xb, yb = X_train[ix], y_train[ix]\n",
    "\n",
    "    # Forward pass\n",
    "    emb = C[Xb]\n",
    "    emb_cat = emb.view(emb.shape[0], -1)\n",
    "    h_preact = emb_cat @ W1 + b1\n",
    "    h = torch.tanh(h_preact)\n",
    "    logits = h @ W2 + b2\n",
    "    loss = F.cross_entropy(logits, yb)\n",
    "\n",
    "    # Backward pass\n",
    "    for p in params:\n",
    "        p.grad = None\n",
    "    loss.backward()\n",
    "\n",
    "    # Update step\n",
    "    lr = 0.1 if i < 100_000 else 0.01\n",
    "    for p in params:\n",
    "        p.data += -lr * p.grad\n",
    "\n",
    "    # Track statistics every 10,000 iters\n",
    "    if i % 10_000 == 0:\n",
    "        print(f\"{i:7d}/{max_steps:7d}: {loss.item():.4f}\")\n",
    "    lossi.append(loss.log10().item())"
   ]
  },
  {
   "cell_type": "code",
   "execution_count": 22,
   "metadata": {},
   "outputs": [
    {
     "name": "stdout",
     "output_type": "stream",
     "text": [
      "train 2.0383667945861816\n",
      "val 2.103935480117798\n"
     ]
    }
   ],
   "source": [
    "split_loss(\"train\")\n",
    "split_loss(\"val\")"
   ]
  },
  {
   "cell_type": "markdown",
   "metadata": {},
   "source": [
    "# Batch Normalization"
   ]
  },
  {
   "cell_type": "markdown",
   "metadata": {},
   "source": [
    "We have hidden states prior to activations. The idea behind batch normalization is that we don't want these pre-activation states to be too small or too large (saturated `tanh`) and we would prefer them to be unit Gaussian (mean = 0, std = 1). To do this, we can normalize these hidden states to be unit Gaussian. These are differentiable operations and scale well to deep neural networks. In addition, we want these hidden states to be unit Gaussian only at initialization--we would like these distributions to be able to move around and allow backpropagation to tell us how they should move around. \n",
    "\n",
    "To do this, we introduce a scale and shift element."
   ]
  },
  {
   "cell_type": "code",
   "execution_count": 23,
   "metadata": {},
   "outputs": [
    {
     "data": {
      "text/plain": [
       "torch.Size([1, 200])"
      ]
     },
     "execution_count": 23,
     "metadata": {},
     "output_type": "execute_result"
    }
   ],
   "source": [
    "h_preact.mean(0, keepdim=True).shape"
   ]
  },
  {
   "cell_type": "code",
   "execution_count": 24,
   "metadata": {},
   "outputs": [
    {
     "data": {
      "text/plain": [
       "12297"
      ]
     },
     "execution_count": 24,
     "metadata": {},
     "output_type": "execute_result"
    }
   ],
   "source": [
    "n_emb = 10  # Embedding dimension\n",
    "n_hidden = 200  # Number of neurons in hidden layers of the MLP\n",
    "\n",
    "g = torch.Generator(device=device).manual_seed(2147483647)  # Reprod\n",
    "C = torch.randn((vocab_size, n_emb), generator=g, device=device)  # Embedding matrix\n",
    "W1 = (\n",
    "    torch.randn((n_emb * block_size, n_hidden), generator=g, device=device)\n",
    "    * (5 / 3)  # 5/3 comes from gain for tanh\n",
    "    / ((n_emb * block_size) ** 0.5)\n",
    ")  # First weight matrix\n",
    "b1 = torch.randn(n_hidden, generator=g, device=device) * 0.0  # First bias\n",
    "W2 = (\n",
    "    torch.randn((n_hidden, vocab_size), generator=g, device=device) * 0.1\n",
    ")  # Second weight matrix\n",
    "b2 = torch.randn(vocab_size, generator=g, device=device) * 0.0\n",
    "\n",
    "# Scale and shift elements in batch normalization\n",
    "bn_gain = torch.ones((1, n_hidden), device=device)\n",
    "bn_bias = torch.zeros((1, n_hidden), device=device)\n",
    "\n",
    "params = [C, W1, b1, W2, b2, bn_gain, bn_bias]\n",
    "\n",
    "for p in params:\n",
    "    p.requires_grad = True\n",
    "\n",
    "sum(p.nelement() for p in params)"
   ]
  },
  {
   "cell_type": "code",
   "execution_count": 25,
   "metadata": {},
   "outputs": [
    {
     "name": "stdout",
     "output_type": "stream",
     "text": [
      "      0/ 200000: 3.5815\n",
      "  10000/ 200000: 2.3536\n",
      "  20000/ 200000: 2.3308\n",
      "  30000/ 200000: 2.4221\n",
      "  40000/ 200000: 2.4158\n",
      "  50000/ 200000: 2.1007\n",
      "  60000/ 200000: 2.1813\n",
      "  70000/ 200000: 2.3760\n",
      "  80000/ 200000: 2.2648\n",
      "  90000/ 200000: 2.5007\n",
      " 100000/ 200000: 1.7908\n",
      " 110000/ 200000: 1.9824\n",
      " 120000/ 200000: 2.1955\n",
      " 130000/ 200000: 2.2417\n",
      " 140000/ 200000: 2.3398\n",
      " 150000/ 200000: 1.9827\n",
      " 160000/ 200000: 1.8655\n",
      " 170000/ 200000: 2.4505\n",
      " 180000/ 200000: 1.8180\n",
      " 190000/ 200000: 2.2989\n"
     ]
    }
   ],
   "source": [
    "# Additional training hyperparameters\n",
    "max_steps = 200_000\n",
    "batch_size = 32\n",
    "lossi = []\n",
    "\n",
    "for i in range(max_steps):\n",
    "    # Construct the mini-batch\n",
    "    ix = torch.randint(0, X_train.shape[0], (batch_size,), generator=g, device=device)\n",
    "    Xb, yb = X_train[ix], y_train[ix]\n",
    "\n",
    "    # Forward pass\n",
    "    emb = C[Xb]\n",
    "    emb_cat = emb.view(emb.shape[0], -1)  # Embed the characters into vectors\n",
    "    h_preact = emb_cat @ W1 + b1  # Hidden layer pre-activation\n",
    "    h_preact = (\n",
    "        bn_gain\n",
    "        * (h_preact - h_preact.mean(dim=0, keepdim=True))\n",
    "        / h_preact.std(dim=0, keepdim=True)\n",
    "        + bn_bias\n",
    "    )  # Batch normalization\n",
    "    h = torch.tanh(h_preact)  # Hidden layer\n",
    "    logits = h @ W2 + b2  # Output layer\n",
    "    loss = F.cross_entropy(logits, yb)  # Cross-entropy loss\n",
    "\n",
    "    # Backward pass\n",
    "    for p in params:\n",
    "        p.grad = None\n",
    "    loss.backward()\n",
    "\n",
    "    # Update step\n",
    "    lr = 0.1 if i < 100_000 else 0.01\n",
    "    for p in params:\n",
    "        p.data += -lr * p.grad\n",
    "\n",
    "    # Track statistics every 10,000 iters\n",
    "    if i % 10_000 == 0:\n",
    "        print(f\"{i:7d}/{max_steps:7d}: {loss.item():.4f}\")\n",
    "    lossi.append(loss.log10().item())"
   ]
  },
  {
   "cell_type": "code",
   "execution_count": 28,
   "metadata": {},
   "outputs": [
    {
     "name": "stdout",
     "output_type": "stream",
     "text": [
      "train 2.0707826614379883\n",
      "val 2.111189126968384\n"
     ]
    }
   ],
   "source": [
    "@torch.no_grad()\n",
    "def split_loss(split: str):\n",
    "    x, y = {\n",
    "        \"train\": (X_train, y_train),\n",
    "        \"val\": (X_val, y_val),\n",
    "        \"test\": (X_test, y_test),\n",
    "    }[split]\n",
    "    emb = C[x]\n",
    "    emb_cat = emb.view(emb.shape[0], -1)\n",
    "    h_preact = emb_cat @ W1 + b1\n",
    "    h_preact = (\n",
    "        bn_gain\n",
    "        * (h_preact - h_preact.mean(dim=0, keepdim=True))\n",
    "        / h_preact.std(dim=0, keepdim=True)\n",
    "        + bn_bias\n",
    "    )  # Include batch normalization in evaluation\n",
    "    h = torch.tanh(h_preact)\n",
    "    logits = h @ W2 + b2\n",
    "    loss = F.cross_entropy(logits, y)\n",
    "    print(split, loss.item())\n",
    "\n",
    "\n",
    "split_loss(\"train\")\n",
    "split_loss(\"val\")"
   ]
  },
  {
   "cell_type": "markdown",
   "metadata": {},
   "source": [
    "Although batch normalization works well in practice, the examples are coupled together (hidden layer and logits are a function of all the other examples that came in the batch) and will create more noise in the output. As a side effect, batch normalization also acts as a regularization effect by \"padding out any one example.\" \n",
    "\n",
    "This property is unfavorable and people are trying to move to other normalization techniques--layer normalization, instance normalization, group normalization, etc."
   ]
  },
  {
   "cell_type": "markdown",
   "metadata": {},
   "source": [
    "## Adjusting Batch Normalization Inference"
   ]
  },
  {
   "cell_type": "markdown",
   "metadata": {},
   "source": [
    "Once we've trained a neural net, we would like to be able to deploy it and do inference. With batch normalization, we need to estimate the statistics for the mean and standard deviation of a batch. The batch normalization paper proposes two strategies: \n",
    "\n",
    "1.  A step at the end of training that calculates and sets the batch norm mean and standard deviation over the entire training set.\n",
    "2.  Estimate the mean and standard deviation in a running manner **during** neural net training."
   ]
  },
  {
   "cell_type": "markdown",
   "metadata": {},
   "source": [
    "### End of Training Step"
   ]
  },
  {
   "cell_type": "code",
   "execution_count": null,
   "metadata": {},
   "outputs": [],
   "source": [
    "with torch.no_grad():\n",
    "    emb = C[X_train]\n",
    "    emb_cat = emb.view(emb.shape[0], -1)\n",
    "    hpreact = emb_cat @ W1 + b1\n",
    "    bn_mean = hpreact.mean(0, keepdim=True)\n",
    "    bn_std = hpreact.std(0, keepdim=True)"
   ]
  },
  {
   "cell_type": "markdown",
   "metadata": {},
   "source": [
    "### During Training Step"
   ]
  },
  {
   "cell_type": "code",
   "execution_count": 45,
   "metadata": {},
   "outputs": [
    {
     "data": {
      "text/plain": [
       "12097"
      ]
     },
     "execution_count": 45,
     "metadata": {},
     "output_type": "execute_result"
    }
   ],
   "source": [
    "n_emb = 10  # Embedding dimension\n",
    "n_hidden = 200  # Number of neurons in hidden layers of the MLP\n",
    "\n",
    "g = torch.Generator(device=device).manual_seed(2147483647)  # Reprod\n",
    "C = torch.randn((vocab_size, n_emb), generator=g, device=device)  # Embedding matrix\n",
    "W1 = (\n",
    "    torch.randn((n_emb * block_size, n_hidden), generator=g, device=device)\n",
    "    * (5 / 3)  # 5/3 comes from gain for tanh\n",
    "    / ((n_emb * block_size) ** 0.5)\n",
    ")  # First weight matrix\n",
    "W2 = (\n",
    "    torch.randn((n_hidden, vocab_size), generator=g, device=device) * 0.1\n",
    ")  # Second weight matrix\n",
    "b2 = torch.randn(vocab_size, generator=g, device=device) * 0.0\n",
    "\n",
    "# Scale and shift elements in batch normalization\n",
    "bn_gain = torch.ones((1, n_hidden), device=device)\n",
    "bn_bias = torch.zeros((1, n_hidden), device=device)\n",
    "\n",
    "# Running batch mean and std statistics\n",
    "bn_mean_running = torch.zeros((1, n_hidden), device=device)\n",
    "bn_std_running = torch.ones((1, n_hidden), device=device)\n",
    "\n",
    "params = [\n",
    "    C,\n",
    "    W1,\n",
    "    W2,\n",
    "    b2,\n",
    "    bn_gain,\n",
    "    bn_bias,\n",
    "]  # First bias (pre-act) is no longer needed since it is subtracted out in the batch norm calculation\n",
    "\n",
    "for p in params:\n",
    "    p.requires_grad = True\n",
    "\n",
    "sum(p.nelement() for p in params)"
   ]
  },
  {
   "cell_type": "code",
   "execution_count": 46,
   "metadata": {},
   "outputs": [
    {
     "name": "stdout",
     "output_type": "stream",
     "text": [
      "      0/ 200000: 3.7918\n",
      "  10000/ 200000: 2.0588\n",
      "  20000/ 200000: 2.0372\n",
      "  30000/ 200000: 2.1925\n",
      "  40000/ 200000: 1.9210\n",
      "  50000/ 200000: 1.9772\n",
      "  60000/ 200000: 2.1037\n",
      "  70000/ 200000: 2.1157\n",
      "  80000/ 200000: 2.3081\n",
      "  90000/ 200000: 2.3414\n",
      " 100000/ 200000: 1.4944\n",
      " 110000/ 200000: 2.1551\n",
      " 120000/ 200000: 2.4237\n",
      " 130000/ 200000: 2.1255\n",
      " 140000/ 200000: 2.4727\n",
      " 150000/ 200000: 2.1253\n",
      " 160000/ 200000: 2.1445\n",
      " 170000/ 200000: 1.9270\n",
      " 180000/ 200000: 2.1062\n",
      " 190000/ 200000: 2.5507\n"
     ]
    }
   ],
   "source": [
    "# Additional training hyperparameters\n",
    "max_steps = 200_000\n",
    "batch_size = 32\n",
    "lossi = []\n",
    "\n",
    "for i in range(max_steps):\n",
    "    # Construct the mini-batch\n",
    "    ix = torch.randint(0, X_train.shape[0], (batch_size,), generator=g, device=device)\n",
    "    Xb, yb = X_train[ix], y_train[ix]\n",
    "\n",
    "    # Forward pass\n",
    "    emb = C[Xb]\n",
    "    emb_cat = emb.view(emb.shape[0], -1)  # Embed the characters into vectors\n",
    "    h_preact = (\n",
    "        emb_cat @ W1\n",
    "    )  # Hidden layer pre-activation + with batch norm we do not need to include pre-act bias since it is subtracted out in the batch norm calculation\n",
    "    bn_meani = h_preact.mean(0, keepdim=True)\n",
    "    bn_stdi = h_preact.std(0, keepdim=True)\n",
    "    h_preact = (\n",
    "        bn_gain * (h_preact - bn_meani) / bn_stdi\n",
    "        + bn_bias  # bn_bias now takes the role of the pre-act bias\n",
    "    )  # Batch normalization\n",
    "    h = torch.tanh(h_preact)  # Hidden layer\n",
    "    logits = h @ W2 + b2  # Output layer\n",
    "    loss = F.cross_entropy(logits, yb)  # Cross-entropy loss\n",
    "\n",
    "    with torch.no_grad():\n",
    "        bn_mean_running = 0.999 * bn_mean_running + 0.001 * bn_meani\n",
    "        bn_std_running = 0.999 * bn_std_running + 0.001 * bn_stdi\n",
    "\n",
    "    # Backward pass\n",
    "    for p in params:\n",
    "        p.grad = None\n",
    "    loss.backward()\n",
    "\n",
    "    # Update step\n",
    "    lr = 0.1 if i < 100_000 else 0.01\n",
    "    for p in params:\n",
    "        p.data += -lr * p.grad\n",
    "\n",
    "    # Track statistics every 10,000 iters\n",
    "    if i % 10_000 == 0:\n",
    "        print(f\"{i:7d}/{max_steps:7d}: {loss.item():.4f}\")\n",
    "    lossi.append(loss.log10().item())"
   ]
  },
  {
   "cell_type": "code",
   "execution_count": 47,
   "metadata": {},
   "outputs": [
    {
     "name": "stdout",
     "output_type": "stream",
     "text": [
      "train 2.069911003112793\n",
      "val 2.110374689102173\n"
     ]
    }
   ],
   "source": [
    "@torch.no_grad()\n",
    "def split_loss(split: str):\n",
    "    x, y = {\n",
    "        \"train\": (X_train, y_train),\n",
    "        \"val\": (X_val, y_val),\n",
    "        \"test\": (X_test, y_test),\n",
    "    }[split]\n",
    "    emb = C[x]\n",
    "    emb_cat = emb.view(emb.shape[0], -1)\n",
    "    h_preact = emb_cat @ W1 + b1\n",
    "    h_preact = bn_gain * (h_preact - bn_mean_running) / bn_std_running + bn_bias\n",
    "    h = torch.tanh(h_preact)\n",
    "    logits = h @ W2 + b2\n",
    "    loss = F.cross_entropy(logits, y)\n",
    "    print(split, loss.item())\n",
    "\n",
    "split_loss(\"train\")\n",
    "split_loss(\"val\")"
   ]
  },
  {
   "cell_type": "markdown",
   "metadata": {},
   "source": [
    "## Summary"
   ]
  },
  {
   "cell_type": "markdown",
   "metadata": {},
   "source": [
    "-   Batch normalization is used to control the statistics of activations in the neural net and are applied prior to the activation.\n",
    "-   It is common to sprinkle batch norm layers across the neural net, typically after layers with multiplication (e.g. linear or convolutional layers).\n",
    "-   Batch norm internally has parameters for the gain and bias that are trained using backprop. It also has buffers--the running mean and std--that are trained with a running update to help record the overall mean and std across the training set. These buffers will be used to perform inference.\n",
    "\n",
    "Related to convolutional neural nets (CNN):\n",
    "\n",
    "-   The same pattern of linear output, batch norm, then activation also occurs in CNNs, but in the form of convolution, batch norm, then activation.\n",
    "-   When initializing the convolutional layers, the bias is set to `False`. This is exactly for the same reason why we did not include bias in our calculations when we used batch norm. Batch norm's bias takes on the role of the pre-activation bias."
   ]
  }
 ],
 "metadata": {
  "kernelspec": {
   "display_name": ".venv",
   "language": "python",
   "name": "python3"
  },
  "language_info": {
   "codemirror_mode": {
    "name": "ipython",
    "version": 3
   },
   "file_extension": ".py",
   "mimetype": "text/x-python",
   "name": "python",
   "nbconvert_exporter": "python",
   "pygments_lexer": "ipython3",
   "version": "3.11.9"
  }
 },
 "nbformat": 4,
 "nbformat_minor": 2
}
